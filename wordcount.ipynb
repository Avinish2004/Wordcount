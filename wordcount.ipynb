{
  "nbformat": 4,
  "nbformat_minor": 0,
  "metadata": {
    "colab": {
      "provenance": [],
      "authorship_tag": "ABX9TyPaIhyV3mxKJH846Kn+8z0k",
      "include_colab_link": true
    },
    "kernelspec": {
      "name": "python3",
      "display_name": "Python 3"
    },
    "language_info": {
      "name": "python"
    }
  },
  "cells": [
    {
      "cell_type": "markdown",
      "metadata": {
        "id": "view-in-github",
        "colab_type": "text"
      },
      "source": [
        "<a href=\"https://colab.research.google.com/github/Avinish2004/Wordcount/blob/main/wordcount.ipynb\" target=\"_parent\"><img src=\"https://colab.research.google.com/assets/colab-badge.svg\" alt=\"Open In Colab\"/></a>"
      ]
    },
    {
      "cell_type": "markdown",
      "source": [
        "## Wordcount : it will count the number of word in a paragraph."
      ],
      "metadata": {
        "id": "Jisb9l6EbTNn"
      }
    },
    {
      "cell_type": "code",
      "source": [
        "def word_count(text):\n",
        "    words = text.split()\n",
        "    return len(words)\n",
        "\n",
        "# Manual input from user\n",
        "input_text = input(\"Enter a text string: \")\n",
        "\n",
        "# Call the word_count function with the user-input text\n",
        "result = word_count(input_text)\n",
        "\n",
        "# Display the result\n",
        "print(f\"Number of words: {result}\")"
      ],
      "metadata": {
        "colab": {
          "base_uri": "https://localhost:8080/"
        },
        "id": "Wp1_0-cyakl3",
        "outputId": "e75629c3-4592-434a-e02a-180a471ce9f1"
      },
      "execution_count": 5,
      "outputs": [
        {
          "output_type": "stream",
          "name": "stdout",
          "text": [
            "Enter a text string: once upon a time there was a king\n",
            "Number of words: 8\n"
          ]
        }
      ]
    }
  ]
}